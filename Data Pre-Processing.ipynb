{
 "cells": [
  {
   "cell_type": "code",
   "execution_count": 1,
   "id": "7d303d5b",
   "metadata": {},
   "outputs": [],
   "source": [
    "import pandas as pd"
   ]
  },
  {
   "cell_type": "code",
   "execution_count": 2,
   "id": "3092193e",
   "metadata": {},
   "outputs": [
    {
     "name": "stderr",
     "output_type": "stream",
     "text": [
      "C:\\Users\\aashr\\AppData\\Local\\Temp\\ipykernel_6572\\1936770071.py:1: DtypeWarning: Columns (85) have mixed types. Specify dtype option on import or set low_memory=False.\n",
      "  mssql=pd.read_csv(\"D:\\\\6th Sem\\\\Mini Project\\\\Dataset\\\\New folder\\\\03-11\\\\MSSQL.csv\")\n"
     ]
    }
   ],
   "source": [
    "mssql=pd.read_csv(\"D:\\\\6th Sem\\\\Mini Project\\\\Dataset\\\\New folder\\\\03-11\\\\MSSQL.csv\")"
   ]
  },
  {
   "cell_type": "code",
   "execution_count": 3,
   "id": "9e21820e",
   "metadata": {},
   "outputs": [
    {
     "name": "stderr",
     "output_type": "stream",
     "text": [
      "C:\\Users\\aashr\\AppData\\Local\\Temp\\ipykernel_6572\\2135656130.py:1: DtypeWarning: Columns (85) have mixed types. Specify dtype option on import or set low_memory=False.\n",
      "  bios=pd.read_csv(\"D:\\\\6th Sem\\\\Mini Project\\\\Dataset\\\\New folder\\\\03-11\\\\NetBIOS.csv\")\n",
      "C:\\Users\\aashr\\AppData\\Local\\Temp\\ipykernel_6572\\2135656130.py:2: DtypeWarning: Columns (85) have mixed types. Specify dtype option on import or set low_memory=False.\n",
      "  portmap = pd.read_csv(\"D:\\\\6th Sem\\\\Mini Project\\\\Dataset\\\\New folder\\\\03-11\\\\Portmap.csv\")\n"
     ]
    }
   ],
   "source": [
    "bios=pd.read_csv(\"D:\\\\6th Sem\\\\Mini Project\\\\Dataset\\\\New folder\\\\03-11\\\\NetBIOS.csv\")\n",
    "portmap = pd.read_csv(\"D:\\\\6th Sem\\\\Mini Project\\\\Dataset\\\\New folder\\\\03-11\\\\Portmap.csv\")"
   ]
  },
  {
   "cell_type": "code",
   "execution_count": 4,
   "id": "c1eaa428",
   "metadata": {},
   "outputs": [
    {
     "name": "stderr",
     "output_type": "stream",
     "text": [
      "C:\\Users\\aashr\\AppData\\Local\\Temp\\ipykernel_6572\\4110942445.py:1: DtypeWarning: Columns (85) have mixed types. Specify dtype option on import or set low_memory=False.\n",
      "  syn=pd.read_csv(\"D:\\\\6th Sem\\\\Mini Project\\\\Dataset\\\\New folder\\\\03-11\\\\Syn.csv\")\n"
     ]
    }
   ],
   "source": [
    "syn=pd.read_csv(\"D:\\\\6th Sem\\\\Mini Project\\\\Dataset\\\\New folder\\\\03-11\\\\Syn.csv\")"
   ]
  },
  {
   "cell_type": "code",
   "execution_count": 5,
   "id": "ddddb5c9",
   "metadata": {},
   "outputs": [
    {
     "name": "stderr",
     "output_type": "stream",
     "text": [
      "C:\\Users\\aashr\\AppData\\Local\\Temp\\ipykernel_6572\\3582397727.py:1: DtypeWarning: Columns (85) have mixed types. Specify dtype option on import or set low_memory=False.\n",
      "  udpLag = pd.read_csv(\"D:\\\\6th Sem\\\\Mini Project\\\\Dataset\\\\New folder\\\\03-11\\\\UDPLag.csv\")\n"
     ]
    }
   ],
   "source": [
    "udpLag = pd.read_csv(\"D:\\\\6th Sem\\\\Mini Project\\\\Dataset\\\\New folder\\\\03-11\\\\UDPLag.csv\")"
   ]
  },
  {
   "cell_type": "code",
   "execution_count": 6,
   "id": "ba5acead",
   "metadata": {},
   "outputs": [
    {
     "name": "stderr",
     "output_type": "stream",
     "text": [
      "C:\\Users\\aashr\\AppData\\Local\\Temp\\ipykernel_6572\\2789263090.py:1: DtypeWarning: Columns (85) have mixed types. Specify dtype option on import or set low_memory=False.\n",
      "  udp = pd.read_csv(\"D:\\\\6th Sem\\\\Mini Project\\\\Dataset\\\\New folder\\\\03-11\\\\UDP.csv\")\n"
     ]
    }
   ],
   "source": [
    "udp = pd.read_csv(\"D:\\\\6th Sem\\\\Mini Project\\\\Dataset\\\\New folder\\\\03-11\\\\UDP.csv\")"
   ]
  },
  {
   "cell_type": "code",
   "execution_count": 7,
   "id": "5058c91f",
   "metadata": {},
   "outputs": [
    {
     "name": "stderr",
     "output_type": "stream",
     "text": [
      "C:\\Users\\aashr\\AppData\\Local\\Temp\\ipykernel_6572\\4292236021.py:1: DtypeWarning: Columns (85) have mixed types. Specify dtype option on import or set low_memory=False.\n",
      "  ldap=pd.read_csv(\"D:\\\\6th Sem\\\\Mini Project\\\\Dataset\\\\New folder\\\\03-11\\\\LDAP.csv\")\n"
     ]
    }
   ],
   "source": [
    "ldap=pd.read_csv(\"D:\\\\6th Sem\\\\Mini Project\\\\Dataset\\\\New folder\\\\03-11\\\\LDAP.csv\")"
   ]
  },
  {
   "cell_type": "code",
   "execution_count": 8,
   "id": "c3480a8e",
   "metadata": {},
   "outputs": [
    {
     "name": "stdout",
     "output_type": "stream",
     "text": [
      "MSSQL=  (5775786, 88)\n",
      "BIOS=  (3455899, 88)\n",
      "Portmap=  (191694, 88)\n",
      "SYN=  (4320541, 88)\n",
      "UDP=  (3782206, 88)\n",
      "UDPLag=  (725165, 88)\n",
      "min = (725165, 88)\n"
     ]
    }
   ],
   "source": [
    "print(\"MSSQL= \",mssql.shape)\n",
    "print(\"BIOS= \",bios.shape)\n",
    "print(\"Portmap= \",portmap.shape)\n",
    "print(\"SYN= \",syn.shape)\n",
    "print(\"UDP= \",udp.shape)\n",
    "print(\"UDPLag= \",udpLag.shape)\n",
    "print(\"min =\", min(udpLag.shape,udp.shape,syn.shape,bios.shape,mssql.shape))"
   ]
  },
  {
   "cell_type": "code",
   "execution_count": 9,
   "id": "28b94b1d",
   "metadata": {},
   "outputs": [],
   "source": [
    "ld = ldap.iloc[:191694,]\n",
    "ld.to_csv('ldap1.csv')\n",
    "f = portmap.iloc[:191694,]\n",
    "f.to_csv('portmap1.csv')\n",
    "a = mssql.iloc[:191694,]\n",
    "a.to_csv('mssql1.csv')\n",
    "b = bios.iloc[:191694,]\n",
    "b.to_csv('bios1.csv')\n",
    "c = syn.iloc[:191694,]\n",
    "c.to_csv('syn1.csv')\n",
    "d = udp.iloc[:191694,]\n",
    "d.to_csv('udp1.csv')\n",
    "e = udpLag.iloc[:191694,]\n",
    "e.to_csv('udpLag1.csv')"
   ]
  },
  {
   "cell_type": "code",
   "execution_count": 10,
   "id": "5c78950d",
   "metadata": {},
   "outputs": [
    {
     "name": "stderr",
     "output_type": "stream",
     "text": [
      "C:\\Users\\aashr\\AppData\\Local\\Temp\\ipykernel_6572\\3856956624.py:2: DtypeWarning: Columns (86) have mixed types. Specify dtype option on import or set low_memory=False.\n",
      "  ldap = pd.read_csv(\"ldap1.csv\")\n",
      "C:\\Users\\aashr\\AppData\\Local\\Temp\\ipykernel_6572\\3856956624.py:3: DtypeWarning: Columns (86) have mixed types. Specify dtype option on import or set low_memory=False.\n",
      "  mssql = pd.read_csv(\"mssql1.csv\")\n",
      "C:\\Users\\aashr\\AppData\\Local\\Temp\\ipykernel_6572\\3856956624.py:5: DtypeWarning: Columns (86) have mixed types. Specify dtype option on import or set low_memory=False.\n",
      "  portmap = pd.read_csv(\"portmap1.csv\")\n",
      "C:\\Users\\aashr\\AppData\\Local\\Temp\\ipykernel_6572\\3856956624.py:6: DtypeWarning: Columns (86) have mixed types. Specify dtype option on import or set low_memory=False.\n",
      "  syn = pd.read_csv(\"syn1.csv\")\n",
      "C:\\Users\\aashr\\AppData\\Local\\Temp\\ipykernel_6572\\3856956624.py:7: DtypeWarning: Columns (86) have mixed types. Specify dtype option on import or set low_memory=False.\n",
      "  udp = pd.read_csv(\"udp1.csv\")\n",
      "C:\\Users\\aashr\\AppData\\Local\\Temp\\ipykernel_6572\\3856956624.py:8: DtypeWarning: Columns (86) have mixed types. Specify dtype option on import or set low_memory=False.\n",
      "  udplag = pd.read_csv(\"udpLag1.csv\")\n"
     ]
    }
   ],
   "source": [
    "import pandas as pd\n",
    "ldap = pd.read_csv(\"ldap1.csv\")\n",
    "mssql = pd.read_csv(\"mssql1.csv\")\n",
    "bios = pd.read_csv(\"bios1.csv\")\n",
    "portmap = pd.read_csv(\"portmap1.csv\")\n",
    "syn = pd.read_csv(\"syn1.csv\")\n",
    "udp = pd.read_csv(\"udp1.csv\")\n",
    "udplag = pd.read_csv(\"udpLag1.csv\")"
   ]
  },
  {
   "cell_type": "code",
   "execution_count": 11,
   "id": "c6e50fde",
   "metadata": {},
   "outputs": [
    {
     "data": {
      "text/plain": [
       "Unnamed: 0.1    0\n",
       "Unnamed: 0      0\n",
       "Flow ID         0\n",
       " Source IP      0\n",
       " Source Port    0\n",
       "               ..\n",
       " Idle Max       0\n",
       " Idle Min       0\n",
       "SimillarHTTP    0\n",
       " Inbound        0\n",
       " Label          0\n",
       "Length: 89, dtype: int64"
      ]
     },
     "execution_count": 11,
     "metadata": {},
     "output_type": "execute_result"
    }
   ],
   "source": [
    "udplag.isnull().sum()"
   ]
  },
  {
   "cell_type": "code",
   "execution_count": 13,
   "id": "d8dc41fe",
   "metadata": {},
   "outputs": [],
   "source": [
    "ds=pd.concat([ldap, mssql, bios, portmap, syn, udp, udplag])"
   ]
  },
  {
   "cell_type": "code",
   "execution_count": 17,
   "id": "b721da7a",
   "metadata": {},
   "outputs": [],
   "source": [
    "ds.to_csv('./complete_dataset.csv')"
   ]
  },
  {
   "cell_type": "code",
   "execution_count": 18,
   "id": "d02fe20d",
   "metadata": {},
   "outputs": [
    {
     "name": "stderr",
     "output_type": "stream",
     "text": [
      "C:\\Users\\aashr\\AppData\\Local\\Temp\\ipykernel_6572\\3713445642.py:1: DtypeWarning: Columns (87) have mixed types. Specify dtype option on import or set low_memory=False.\n",
      "  df=pd.read_csv('complete_dataset.csv')\n"
     ]
    }
   ],
   "source": [
    "df=pd.read_csv('complete_dataset.csv') "
   ]
  },
  {
   "cell_type": "code",
   "execution_count": 19,
   "id": "1d2bb7b3",
   "metadata": {},
   "outputs": [
    {
     "name": "stdout",
     "output_type": "stream",
     "text": [
      "columns:  90\n"
     ]
    },
    {
     "data": {
      "text/plain": [
       "Index(['Unnamed: 0.2', 'Unnamed: 0.1', 'Unnamed: 0', 'Flow ID', ' Source IP',\n",
       "       ' Source Port', ' Destination IP', ' Destination Port', ' Protocol',\n",
       "       ' Timestamp', ' Flow Duration', ' Total Fwd Packets',\n",
       "       ' Total Backward Packets', 'Total Length of Fwd Packets',\n",
       "       ' Total Length of Bwd Packets', ' Fwd Packet Length Max',\n",
       "       ' Fwd Packet Length Min', ' Fwd Packet Length Mean',\n",
       "       ' Fwd Packet Length Std', 'Bwd Packet Length Max',\n",
       "       ' Bwd Packet Length Min', ' Bwd Packet Length Mean',\n",
       "       ' Bwd Packet Length Std', 'Flow Bytes/s', ' Flow Packets/s',\n",
       "       ' Flow IAT Mean', ' Flow IAT Std', ' Flow IAT Max', ' Flow IAT Min',\n",
       "       'Fwd IAT Total', ' Fwd IAT Mean', ' Fwd IAT Std', ' Fwd IAT Max',\n",
       "       ' Fwd IAT Min', 'Bwd IAT Total', ' Bwd IAT Mean', ' Bwd IAT Std',\n",
       "       ' Bwd IAT Max', ' Bwd IAT Min', 'Fwd PSH Flags', ' Bwd PSH Flags',\n",
       "       ' Fwd URG Flags', ' Bwd URG Flags', ' Fwd Header Length',\n",
       "       ' Bwd Header Length', 'Fwd Packets/s', ' Bwd Packets/s',\n",
       "       ' Min Packet Length', ' Max Packet Length', ' Packet Length Mean',\n",
       "       ' Packet Length Std', ' Packet Length Variance', 'FIN Flag Count',\n",
       "       ' SYN Flag Count', ' RST Flag Count', ' PSH Flag Count',\n",
       "       ' ACK Flag Count', ' URG Flag Count', ' CWE Flag Count',\n",
       "       ' ECE Flag Count', ' Down/Up Ratio', ' Average Packet Size',\n",
       "       ' Avg Fwd Segment Size', ' Avg Bwd Segment Size',\n",
       "       ' Fwd Header Length.1', 'Fwd Avg Bytes/Bulk', ' Fwd Avg Packets/Bulk',\n",
       "       ' Fwd Avg Bulk Rate', ' Bwd Avg Bytes/Bulk', ' Bwd Avg Packets/Bulk',\n",
       "       'Bwd Avg Bulk Rate', 'Subflow Fwd Packets', ' Subflow Fwd Bytes',\n",
       "       ' Subflow Bwd Packets', ' Subflow Bwd Bytes', 'Init_Win_bytes_forward',\n",
       "       ' Init_Win_bytes_backward', ' act_data_pkt_fwd',\n",
       "       ' min_seg_size_forward', 'Active Mean', ' Active Std', ' Active Max',\n",
       "       ' Active Min', 'Idle Mean', ' Idle Std', ' Idle Max', ' Idle Min',\n",
       "       'SimillarHTTP', ' Inbound', ' Label'],\n",
       "      dtype='object')"
      ]
     },
     "execution_count": 19,
     "metadata": {},
     "output_type": "execute_result"
    }
   ],
   "source": [
    "print(\"columns: \", len(df.columns))\n",
    "df.columns"
   ]
  },
  {
   "cell_type": "code",
   "execution_count": 20,
   "id": "ad79ebf2",
   "metadata": {},
   "outputs": [
    {
     "data": {
      "text/html": [
       "<div>\n",
       "<style scoped>\n",
       "    .dataframe tbody tr th:only-of-type {\n",
       "        vertical-align: middle;\n",
       "    }\n",
       "\n",
       "    .dataframe tbody tr th {\n",
       "        vertical-align: top;\n",
       "    }\n",
       "\n",
       "    .dataframe thead th {\n",
       "        text-align: right;\n",
       "    }\n",
       "</style>\n",
       "<table border=\"1\" class=\"dataframe\">\n",
       "  <thead>\n",
       "    <tr style=\"text-align: right;\">\n",
       "      <th></th>\n",
       "      <th>Unnamed: 0.2</th>\n",
       "      <th>Unnamed: 0.1</th>\n",
       "      <th>Unnamed: 0</th>\n",
       "      <th>Source Port</th>\n",
       "      <th>Destination Port</th>\n",
       "      <th>Protocol</th>\n",
       "      <th>Flow Duration</th>\n",
       "      <th>Total Fwd Packets</th>\n",
       "      <th>Total Backward Packets</th>\n",
       "      <th>Total Length of Fwd Packets</th>\n",
       "      <th>...</th>\n",
       "      <th>min_seg_size_forward</th>\n",
       "      <th>Active Mean</th>\n",
       "      <th>Active Std</th>\n",
       "      <th>Active Max</th>\n",
       "      <th>Active Min</th>\n",
       "      <th>Idle Mean</th>\n",
       "      <th>Idle Std</th>\n",
       "      <th>Idle Max</th>\n",
       "      <th>Idle Min</th>\n",
       "      <th>Inbound</th>\n",
       "    </tr>\n",
       "  </thead>\n",
       "  <tbody>\n",
       "    <tr>\n",
       "      <th>count</th>\n",
       "      <td>1.341858e+06</td>\n",
       "      <td>1.341858e+06</td>\n",
       "      <td>1.341858e+06</td>\n",
       "      <td>1.341858e+06</td>\n",
       "      <td>1.341858e+06</td>\n",
       "      <td>1.341858e+06</td>\n",
       "      <td>1.341858e+06</td>\n",
       "      <td>1.341858e+06</td>\n",
       "      <td>1.341858e+06</td>\n",
       "      <td>1.341858e+06</td>\n",
       "      <td>...</td>\n",
       "      <td>1.341858e+06</td>\n",
       "      <td>1.341858e+06</td>\n",
       "      <td>1.341858e+06</td>\n",
       "      <td>1.341858e+06</td>\n",
       "      <td>1.341858e+06</td>\n",
       "      <td>1.341858e+06</td>\n",
       "      <td>1.341858e+06</td>\n",
       "      <td>1.341858e+06</td>\n",
       "      <td>1.341858e+06</td>\n",
       "      <td>1.341858e+06</td>\n",
       "    </tr>\n",
       "    <tr>\n",
       "      <th>mean</th>\n",
       "      <td>9.584650e+04</td>\n",
       "      <td>9.584650e+04</td>\n",
       "      <td>1.284383e+05</td>\n",
       "      <td>2.480991e+04</td>\n",
       "      <td>3.271263e+04</td>\n",
       "      <td>1.475761e+01</td>\n",
       "      <td>3.497060e+06</td>\n",
       "      <td>3.033296e+00</td>\n",
       "      <td>4.666999e-01</td>\n",
       "      <td>6.990473e+02</td>\n",
       "      <td>...</td>\n",
       "      <td>-2.976955e+07</td>\n",
       "      <td>1.115425e+04</td>\n",
       "      <td>1.580449e+04</td>\n",
       "      <td>3.042728e+04</td>\n",
       "      <td>1.783767e+03</td>\n",
       "      <td>1.132422e+06</td>\n",
       "      <td>3.295976e+05</td>\n",
       "      <td>1.465829e+06</td>\n",
       "      <td>8.346896e+05</td>\n",
       "      <td>9.916399e-01</td>\n",
       "    </tr>\n",
       "    <tr>\n",
       "      <th>std</th>\n",
       "      <td>5.533731e+04</td>\n",
       "      <td>5.533731e+04</td>\n",
       "      <td>1.151290e+05</td>\n",
       "      <td>2.420363e+04</td>\n",
       "      <td>1.901471e+04</td>\n",
       "      <td>4.433095e+00</td>\n",
       "      <td>1.274622e+07</td>\n",
       "      <td>2.965176e+01</td>\n",
       "      <td>2.757429e+01</td>\n",
       "      <td>9.576484e+02</td>\n",
       "      <td>...</td>\n",
       "      <td>1.753582e+08</td>\n",
       "      <td>1.557485e+05</td>\n",
       "      <td>1.816805e+05</td>\n",
       "      <td>3.469447e+05</td>\n",
       "      <td>1.067585e+05</td>\n",
       "      <td>4.218403e+06</td>\n",
       "      <td>1.461765e+06</td>\n",
       "      <td>5.393198e+06</td>\n",
       "      <td>3.358328e+06</td>\n",
       "      <td>9.105035e-02</td>\n",
       "    </tr>\n",
       "    <tr>\n",
       "      <th>min</th>\n",
       "      <td>0.000000e+00</td>\n",
       "      <td>0.000000e+00</td>\n",
       "      <td>0.000000e+00</td>\n",
       "      <td>0.000000e+00</td>\n",
       "      <td>0.000000e+00</td>\n",
       "      <td>0.000000e+00</td>\n",
       "      <td>0.000000e+00</td>\n",
       "      <td>1.000000e+00</td>\n",
       "      <td>0.000000e+00</td>\n",
       "      <td>0.000000e+00</td>\n",
       "      <td>...</td>\n",
       "      <td>-1.062719e+09</td>\n",
       "      <td>0.000000e+00</td>\n",
       "      <td>0.000000e+00</td>\n",
       "      <td>0.000000e+00</td>\n",
       "      <td>0.000000e+00</td>\n",
       "      <td>0.000000e+00</td>\n",
       "      <td>0.000000e+00</td>\n",
       "      <td>0.000000e+00</td>\n",
       "      <td>0.000000e+00</td>\n",
       "      <td>0.000000e+00</td>\n",
       "    </tr>\n",
       "    <tr>\n",
       "      <th>25%</th>\n",
       "      <td>4.792300e+04</td>\n",
       "      <td>4.792300e+04</td>\n",
       "      <td>4.740700e+04</td>\n",
       "      <td>7.600000e+02</td>\n",
       "      <td>1.627000e+04</td>\n",
       "      <td>1.700000e+01</td>\n",
       "      <td>1.000000e+00</td>\n",
       "      <td>2.000000e+00</td>\n",
       "      <td>0.000000e+00</td>\n",
       "      <td>4.580000e+02</td>\n",
       "      <td>...</td>\n",
       "      <td>8.000000e+00</td>\n",
       "      <td>0.000000e+00</td>\n",
       "      <td>0.000000e+00</td>\n",
       "      <td>0.000000e+00</td>\n",
       "      <td>0.000000e+00</td>\n",
       "      <td>0.000000e+00</td>\n",
       "      <td>0.000000e+00</td>\n",
       "      <td>0.000000e+00</td>\n",
       "      <td>0.000000e+00</td>\n",
       "      <td>1.000000e+00</td>\n",
       "    </tr>\n",
       "    <tr>\n",
       "      <th>50%</th>\n",
       "      <td>9.584650e+04</td>\n",
       "      <td>9.584650e+04</td>\n",
       "      <td>9.463800e+04</td>\n",
       "      <td>2.024300e+04</td>\n",
       "      <td>3.272500e+04</td>\n",
       "      <td>1.700000e+01</td>\n",
       "      <td>1.000000e+00</td>\n",
       "      <td>2.000000e+00</td>\n",
       "      <td>0.000000e+00</td>\n",
       "      <td>4.580000e+02</td>\n",
       "      <td>...</td>\n",
       "      <td>2.000000e+01</td>\n",
       "      <td>0.000000e+00</td>\n",
       "      <td>0.000000e+00</td>\n",
       "      <td>0.000000e+00</td>\n",
       "      <td>0.000000e+00</td>\n",
       "      <td>0.000000e+00</td>\n",
       "      <td>0.000000e+00</td>\n",
       "      <td>0.000000e+00</td>\n",
       "      <td>0.000000e+00</td>\n",
       "      <td>1.000000e+00</td>\n",
       "    </tr>\n",
       "    <tr>\n",
       "      <th>75%</th>\n",
       "      <td>1.437700e+05</td>\n",
       "      <td>1.437700e+05</td>\n",
       "      <td>1.710370e+05</td>\n",
       "      <td>4.821575e+04</td>\n",
       "      <td>4.922400e+04</td>\n",
       "      <td>1.700000e+01</td>\n",
       "      <td>4.900000e+01</td>\n",
       "      <td>2.000000e+00</td>\n",
       "      <td>0.000000e+00</td>\n",
       "      <td>8.360000e+02</td>\n",
       "      <td>...</td>\n",
       "      <td>2.000000e+01</td>\n",
       "      <td>0.000000e+00</td>\n",
       "      <td>0.000000e+00</td>\n",
       "      <td>0.000000e+00</td>\n",
       "      <td>0.000000e+00</td>\n",
       "      <td>0.000000e+00</td>\n",
       "      <td>0.000000e+00</td>\n",
       "      <td>0.000000e+00</td>\n",
       "      <td>0.000000e+00</td>\n",
       "      <td>1.000000e+00</td>\n",
       "    </tr>\n",
       "    <tr>\n",
       "      <th>max</th>\n",
       "      <td>1.916930e+05</td>\n",
       "      <td>1.916930e+05</td>\n",
       "      <td>6.108790e+05</td>\n",
       "      <td>6.553200e+04</td>\n",
       "      <td>6.553500e+04</td>\n",
       "      <td>1.700000e+01</td>\n",
       "      <td>1.199975e+08</td>\n",
       "      <td>2.527400e+04</td>\n",
       "      <td>3.170000e+04</td>\n",
       "      <td>1.509340e+05</td>\n",
       "      <td>...</td>\n",
       "      <td>1.480000e+03</td>\n",
       "      <td>8.140801e+07</td>\n",
       "      <td>3.610598e+07</td>\n",
       "      <td>8.140801e+07</td>\n",
       "      <td>8.140801e+07</td>\n",
       "      <td>1.157254e+08</td>\n",
       "      <td>6.188006e+07</td>\n",
       "      <td>1.157254e+08</td>\n",
       "      <td>1.157254e+08</td>\n",
       "      <td>1.000000e+00</td>\n",
       "    </tr>\n",
       "  </tbody>\n",
       "</table>\n",
       "<p>8 rows × 84 columns</p>\n",
       "</div>"
      ],
      "text/plain": [
       "       Unnamed: 0.2  Unnamed: 0.1    Unnamed: 0   Source Port  \\\n",
       "count  1.341858e+06  1.341858e+06  1.341858e+06  1.341858e+06   \n",
       "mean   9.584650e+04  9.584650e+04  1.284383e+05  2.480991e+04   \n",
       "std    5.533731e+04  5.533731e+04  1.151290e+05  2.420363e+04   \n",
       "min    0.000000e+00  0.000000e+00  0.000000e+00  0.000000e+00   \n",
       "25%    4.792300e+04  4.792300e+04  4.740700e+04  7.600000e+02   \n",
       "50%    9.584650e+04  9.584650e+04  9.463800e+04  2.024300e+04   \n",
       "75%    1.437700e+05  1.437700e+05  1.710370e+05  4.821575e+04   \n",
       "max    1.916930e+05  1.916930e+05  6.108790e+05  6.553200e+04   \n",
       "\n",
       "        Destination Port      Protocol   Flow Duration   Total Fwd Packets  \\\n",
       "count       1.341858e+06  1.341858e+06    1.341858e+06        1.341858e+06   \n",
       "mean        3.271263e+04  1.475761e+01    3.497060e+06        3.033296e+00   \n",
       "std         1.901471e+04  4.433095e+00    1.274622e+07        2.965176e+01   \n",
       "min         0.000000e+00  0.000000e+00    0.000000e+00        1.000000e+00   \n",
       "25%         1.627000e+04  1.700000e+01    1.000000e+00        2.000000e+00   \n",
       "50%         3.272500e+04  1.700000e+01    1.000000e+00        2.000000e+00   \n",
       "75%         4.922400e+04  1.700000e+01    4.900000e+01        2.000000e+00   \n",
       "max         6.553500e+04  1.700000e+01    1.199975e+08        2.527400e+04   \n",
       "\n",
       "        Total Backward Packets  Total Length of Fwd Packets  ...  \\\n",
       "count             1.341858e+06                 1.341858e+06  ...   \n",
       "mean              4.666999e-01                 6.990473e+02  ...   \n",
       "std               2.757429e+01                 9.576484e+02  ...   \n",
       "min               0.000000e+00                 0.000000e+00  ...   \n",
       "25%               0.000000e+00                 4.580000e+02  ...   \n",
       "50%               0.000000e+00                 4.580000e+02  ...   \n",
       "75%               0.000000e+00                 8.360000e+02  ...   \n",
       "max               3.170000e+04                 1.509340e+05  ...   \n",
       "\n",
       "        min_seg_size_forward   Active Mean    Active Std    Active Max  \\\n",
       "count           1.341858e+06  1.341858e+06  1.341858e+06  1.341858e+06   \n",
       "mean           -2.976955e+07  1.115425e+04  1.580449e+04  3.042728e+04   \n",
       "std             1.753582e+08  1.557485e+05  1.816805e+05  3.469447e+05   \n",
       "min            -1.062719e+09  0.000000e+00  0.000000e+00  0.000000e+00   \n",
       "25%             8.000000e+00  0.000000e+00  0.000000e+00  0.000000e+00   \n",
       "50%             2.000000e+01  0.000000e+00  0.000000e+00  0.000000e+00   \n",
       "75%             2.000000e+01  0.000000e+00  0.000000e+00  0.000000e+00   \n",
       "max             1.480000e+03  8.140801e+07  3.610598e+07  8.140801e+07   \n",
       "\n",
       "         Active Min     Idle Mean      Idle Std      Idle Max      Idle Min  \\\n",
       "count  1.341858e+06  1.341858e+06  1.341858e+06  1.341858e+06  1.341858e+06   \n",
       "mean   1.783767e+03  1.132422e+06  3.295976e+05  1.465829e+06  8.346896e+05   \n",
       "std    1.067585e+05  4.218403e+06  1.461765e+06  5.393198e+06  3.358328e+06   \n",
       "min    0.000000e+00  0.000000e+00  0.000000e+00  0.000000e+00  0.000000e+00   \n",
       "25%    0.000000e+00  0.000000e+00  0.000000e+00  0.000000e+00  0.000000e+00   \n",
       "50%    0.000000e+00  0.000000e+00  0.000000e+00  0.000000e+00  0.000000e+00   \n",
       "75%    0.000000e+00  0.000000e+00  0.000000e+00  0.000000e+00  0.000000e+00   \n",
       "max    8.140801e+07  1.157254e+08  6.188006e+07  1.157254e+08  1.157254e+08   \n",
       "\n",
       "            Inbound  \n",
       "count  1.341858e+06  \n",
       "mean   9.916399e-01  \n",
       "std    9.105035e-02  \n",
       "min    0.000000e+00  \n",
       "25%    1.000000e+00  \n",
       "50%    1.000000e+00  \n",
       "75%    1.000000e+00  \n",
       "max    1.000000e+00  \n",
       "\n",
       "[8 rows x 84 columns]"
      ]
     },
     "execution_count": 20,
     "metadata": {},
     "output_type": "execute_result"
    }
   ],
   "source": [
    "df.describe()"
   ]
  },
  {
   "cell_type": "code",
   "execution_count": 21,
   "id": "7f4430b0",
   "metadata": {},
   "outputs": [],
   "source": [
    "df=df.drop(' Bwd PSH Flags',axis=1)\n",
    "df=df.drop(' Fwd URG Flags',axis=1)\n",
    "df=df.drop(' Bwd URG Flags',axis=1)\n",
    "df=df.drop('FIN Flag Count',axis=1)\n",
    "df=df.drop(' PSH Flag Count',axis=1)\n",
    "df=df.drop(' ECE Flag Count',axis=1)\n",
    "df=df.drop('Fwd Avg Bytes/Bulk',axis=1)\n",
    "df=df.drop(' Fwd Avg Packets/Bulk',axis=1)\n",
    "df=df.drop(' Fwd Avg Bulk Rate',axis=1)\n",
    "df=df.drop(' Bwd Avg Bytes/Bulk',axis=1)\n",
    "df=df.drop(' Bwd Avg Packets/Bulk',axis=1)\n",
    "df=df.drop('Bwd Avg Bulk Rate',axis=1)\n",
    "df=df.drop('Unnamed: 0',axis=1)\n",
    "df=df.drop('Unnamed: 0.1',axis=1)\n",
    "df=df.drop('SimillarHTTP', axis=1)\n",
    "df=df.drop('Flow ID', axis=1)\n",
    "df=df.drop(' Timestamp', axis=1)"
   ]
  },
  {
   "cell_type": "code",
   "execution_count": 23,
   "id": "bcd47eec",
   "metadata": {},
   "outputs": [],
   "source": [
    "df.to_csv('./clean_2.csv')"
   ]
  },
  {
   "cell_type": "code",
   "execution_count": 24,
   "id": "15fc8f78",
   "metadata": {},
   "outputs": [
    {
     "name": "stdout",
     "output_type": "stream",
     "text": [
      "<class 'pandas.core.frame.DataFrame'>\n",
      "RangeIndex: 1341858 entries, 0 to 1341857\n",
      "Data columns (total 73 columns):\n",
      " #   Column                        Non-Null Count    Dtype  \n",
      "---  ------                        --------------    -----  \n",
      " 0   Unnamed: 0.2                  1341858 non-null  int64  \n",
      " 1    Source IP                    1341858 non-null  object \n",
      " 2    Source Port                  1341858 non-null  int64  \n",
      " 3    Destination IP               1341858 non-null  object \n",
      " 4    Destination Port             1341858 non-null  int64  \n",
      " 5    Protocol                     1341858 non-null  int64  \n",
      " 6    Flow Duration                1341858 non-null  int64  \n",
      " 7    Total Fwd Packets            1341858 non-null  int64  \n",
      " 8    Total Backward Packets       1341858 non-null  int64  \n",
      " 9   Total Length of Fwd Packets   1341858 non-null  float64\n",
      " 10   Total Length of Bwd Packets  1341858 non-null  float64\n",
      " 11   Fwd Packet Length Max        1341858 non-null  float64\n",
      " 12   Fwd Packet Length Min        1341858 non-null  float64\n",
      " 13   Fwd Packet Length Mean       1341858 non-null  float64\n",
      " 14   Fwd Packet Length Std        1341858 non-null  float64\n",
      " 15  Bwd Packet Length Max         1341858 non-null  float64\n",
      " 16   Bwd Packet Length Min        1341858 non-null  float64\n",
      " 17   Bwd Packet Length Mean       1341858 non-null  float64\n",
      " 18   Bwd Packet Length Std        1341858 non-null  float64\n",
      " 19  Flow Bytes/s                  1341846 non-null  float64\n",
      " 20   Flow Packets/s               1341858 non-null  float64\n",
      " 21   Flow IAT Mean                1341858 non-null  float64\n",
      " 22   Flow IAT Std                 1341858 non-null  float64\n",
      " 23   Flow IAT Max                 1341858 non-null  float64\n",
      " 24   Flow IAT Min                 1341858 non-null  float64\n",
      " 25  Fwd IAT Total                 1341858 non-null  float64\n",
      " 26   Fwd IAT Mean                 1341858 non-null  float64\n",
      " 27   Fwd IAT Std                  1341858 non-null  float64\n",
      " 28   Fwd IAT Max                  1341858 non-null  float64\n",
      " 29   Fwd IAT Min                  1341858 non-null  float64\n",
      " 30  Bwd IAT Total                 1341858 non-null  float64\n",
      " 31   Bwd IAT Mean                 1341858 non-null  float64\n",
      " 32   Bwd IAT Std                  1341858 non-null  float64\n",
      " 33   Bwd IAT Max                  1341858 non-null  float64\n",
      " 34   Bwd IAT Min                  1341858 non-null  float64\n",
      " 35  Fwd PSH Flags                 1341858 non-null  int64  \n",
      " 36   Fwd Header Length            1341858 non-null  int64  \n",
      " 37   Bwd Header Length            1341858 non-null  int64  \n",
      " 38  Fwd Packets/s                 1341858 non-null  float64\n",
      " 39   Bwd Packets/s                1341858 non-null  float64\n",
      " 40   Min Packet Length            1341858 non-null  float64\n",
      " 41   Max Packet Length            1341858 non-null  float64\n",
      " 42   Packet Length Mean           1341858 non-null  float64\n",
      " 43   Packet Length Std            1341858 non-null  float64\n",
      " 44   Packet Length Variance       1341858 non-null  float64\n",
      " 45   SYN Flag Count               1341858 non-null  int64  \n",
      " 46   RST Flag Count               1341858 non-null  int64  \n",
      " 47   ACK Flag Count               1341858 non-null  int64  \n",
      " 48   URG Flag Count               1341858 non-null  int64  \n",
      " 49   CWE Flag Count               1341858 non-null  int64  \n",
      " 50   Down/Up Ratio                1341858 non-null  float64\n",
      " 51   Average Packet Size          1341858 non-null  float64\n",
      " 52   Avg Fwd Segment Size         1341858 non-null  float64\n",
      " 53   Avg Bwd Segment Size         1341858 non-null  float64\n",
      " 54   Fwd Header Length.1          1341858 non-null  int64  \n",
      " 55  Subflow Fwd Packets           1341858 non-null  int64  \n",
      " 56   Subflow Fwd Bytes            1341858 non-null  int64  \n",
      " 57   Subflow Bwd Packets          1341858 non-null  int64  \n",
      " 58   Subflow Bwd Bytes            1341858 non-null  int64  \n",
      " 59  Init_Win_bytes_forward        1341858 non-null  int64  \n",
      " 60   Init_Win_bytes_backward      1341858 non-null  int64  \n",
      " 61   act_data_pkt_fwd             1341858 non-null  int64  \n",
      " 62   min_seg_size_forward         1341858 non-null  int64  \n",
      " 63  Active Mean                   1341858 non-null  float64\n",
      " 64   Active Std                   1341858 non-null  float64\n",
      " 65   Active Max                   1341858 non-null  float64\n",
      " 66   Active Min                   1341858 non-null  float64\n",
      " 67  Idle Mean                     1341858 non-null  float64\n",
      " 68   Idle Std                     1341858 non-null  float64\n",
      " 69   Idle Max                     1341858 non-null  float64\n",
      " 70   Idle Min                     1341858 non-null  float64\n",
      " 71   Inbound                      1341858 non-null  int64  \n",
      " 72  Label                         1341858 non-null  object \n",
      "dtypes: float64(45), int64(25), object(3)\n",
      "memory usage: 747.3+ MB\n"
     ]
    }
   ],
   "source": [
    "df = df.rename(columns={\" Label\": \"Label\"})\n",
    "df.info()"
   ]
  },
  {
   "cell_type": "code",
   "execution_count": 27,
   "id": "79d675f9",
   "metadata": {},
   "outputs": [
    {
     "data": {
      "text/plain": [
       "array([1, 0, 2, 3, 4, 5, 6, 7])"
      ]
     },
     "execution_count": 27,
     "metadata": {},
     "output_type": "execute_result"
    }
   ],
   "source": [
    "df.Label.unique()\n",
    "df['Label'] = df['Label'].replace('BENIGN', '0')\n",
    "df['Label'] = df['Label'].replace('NetBIOS', '1')\n",
    "df['Label'] = df['Label'].replace('LDAP', '2')\n",
    "df['Label'] = df['Label'].replace('MSSQL', '3')\n",
    "df['Label'] = df['Label'].replace('Portmap', '4')\n",
    "df['Label'] = df['Label'].replace('Syn', '5')\n",
    "df['Label'] = df['Label'].replace('UDP', '6')\n",
    "df['Label'] = df['Label'].replace('UDPLag', '7')\n",
    "df['Label'] = df['Label'].astype('int')\n",
    "df.Label.unique()"
   ]
  },
  {
   "cell_type": "code",
   "execution_count": 28,
   "id": "12d99298",
   "metadata": {},
   "outputs": [
    {
     "name": "stdout",
     "output_type": "stream",
     "text": [
      "c0 =10988,c1 =383183,c2 =9931,c3 =205744,c4 =186960,c5 =265120,c6 =278059,c7 =1873\n"
     ]
    }
   ],
   "source": [
    "a = df['Label']\n",
    "c0=c1=c2=c3=c4=c5=c6=c7=0\n",
    "for i in range(len(a)):\n",
    "  if(a[i]==0):\n",
    "    c0=c0+1\n",
    "  if(a[i]==1):\n",
    "    c1=c1+1\n",
    "  if(a[i]==2):\n",
    "    c2=c2+1\n",
    "  if(a[i]==3):\n",
    "    c3=c3+1\n",
    "  if(a[i]==4):\n",
    "    c4=c4+1\n",
    "  if(a[i]==5):\n",
    "    c5=c5+1\n",
    "  if(a[i]==6):\n",
    "    c6=c6+1\n",
    "  if(a[i]==7):\n",
    "    c7=c7+1\n",
    "print(\"c0 ={},c1 ={},c2 ={},c3 ={},c4 ={},c5 ={},c6 ={},c7 ={}\".format(c0,c1,c2,c3,c4,c5,c6,c7))"
   ]
  },
  {
   "cell_type": "code",
   "execution_count": 29,
   "id": "9be25b0c",
   "metadata": {},
   "outputs": [
    {
     "name": "stdout",
     "output_type": "stream",
     "text": [
      "num =  366\n"
     ]
    },
    {
     "data": {
      "text/plain": [
       "array(['172.16.0.5', '192.168.50.8', '172.217.2.174', '192.168.50.4',\n",
       "       '172.217.10.2', '192.168.50.6', '74.208.236.171', '192.168.50.253',\n",
       "       '192.168.50.9', '192.168.50.254', '69.172.216.111', '72.21.91.29',\n",
       "       '172.217.11.14', '52.216.133.109', '104.88.35.145',\n",
       "       '23.192.125.11', '52.85.89.37', '23.194.142.213', '52.85.89.143',\n",
       "       '151.101.20.175', '23.219.220.75', '104.88.99.68', '192.132.33.27',\n",
       "       '52.85.89.55', '8.6.0.1', '0.0.0.0', '172.217.1.2', '23.15.4.24',\n",
       "       '104.36.115.113', '23.192.125.97', '52.84.90.2', '52.85.90.206',\n",
       "       '23.203.131.113', '52.85.89.104', '93.184.216.180',\n",
       "       '147.75.96.107', '151.101.118.133', '104.88.65.95',\n",
       "       '172.217.2.170', '172.217.2.161', '172.217.1.162',\n",
       "       '172.217.10.130', '172.217.2.166', '172.217.2.162',\n",
       "       '172.217.2.164', '172.217.10.78', '172.217.3.98', '23.206.193.17',\n",
       "       '172.217.12.130', '172.217.6.194', '172.217.12.195',\n",
       "       '172.217.6.234', '172.217.11.6', '172.217.6.225', '172.217.0.226',\n",
       "       '172.217.10.74', '157.56.96.157', '173.194.208.109',\n",
       "       '54.213.45.184', '184.86.217.211', '35.163.53.118',\n",
       "       '172.217.11.10', '34.208.208.167', '172.217.9.238', '54.192.55.39',\n",
       "       '35.158.163.158', '172.217.197.154', '23.194.108.29',\n",
       "       '52.28.108.167', '34.209.30.112', '172.217.9.226',\n",
       "       '172.217.12.193', '72.167.239.239', '172.217.12.206', '192.0.73.2',\n",
       "       '52.39.131.77', '52.88.72.192', '54.192.53.175', '23.194.177.32',\n",
       "       '52.85.89.250', '54.243.214.170', '172.217.3.100',\n",
       "       '172.217.12.162', '172.217.9.230', '172.217.10.138', '31.13.71.2',\n",
       "       '23.63.78.40', '172.217.3.106', '52.34.248.21', '173.194.204.109',\n",
       "       '172.217.10.226', '54.187.144.104', '204.154.111.108',\n",
       "       '204.154.111.133', '23.194.108.16', '172.217.10.228',\n",
       "       '172.217.10.67', '172.217.9.234', '69.172.216.58', '69.172.216.55',\n",
       "       '34.208.7.98', '172.217.12.164', '172.217.10.66', '172.217.12.174',\n",
       "       '172.217.6.238', '172.217.3.110', '172.217.12.198',\n",
       "       '173.194.205.109', '204.154.111.114', '172.217.7.2',\n",
       "       '104.27.180.86', '52.216.18.11', '172.217.9.225', '172.217.6.228',\n",
       "       '172.217.3.99', '172.217.6.230', '173.194.205.108',\n",
       "       '23.203.134.74', '199.166.0.200', '23.194.110.93',\n",
       "       '162.248.19.151', '172.217.10.34', '104.19.199.151',\n",
       "       '172.217.10.70', '172.217.0.98', '38.91.108.49', '52.41.78.152',\n",
       "       '52.33.113.226', '192.168.50.7', '40.77.232.95', '23.194.140.249',\n",
       "       '172.217.11.1', '204.154.111.122', '216.58.219.194', '52.85.89.76',\n",
       "       '52.85.89.77', '52.58.163.2', '104.27.181.86', '54.231.40.58',\n",
       "       '52.43.17.8', '173.194.204.108', '52.84.33.52', '172.217.3.102',\n",
       "       '172.217.3.97', '204.154.111.127', '204.154.111.113',\n",
       "       '172.217.10.98', '216.58.219.226', '34.209.108.219',\n",
       "       '204.154.111.116', '23.194.140.15', '203.82.26.7', '104.16.58.61',\n",
       "       '52.84.35.26', '31.13.71.36', '209.85.144.155', '156.154.200.36',\n",
       "       '104.88.47.174', '172.217.12.202', '74.119.119.84', '23.63.78.19',\n",
       "       '38.134.110.113', '205.185.216.42', '104.196.121.62',\n",
       "       '68.67.179.11', '185.86.137.43', '192.243.250.58', '66.235.145.44',\n",
       "       '98.139.225.43', '195.244.31.10', '52.87.45.28', '52.5.125.127',\n",
       "       '172.217.12.196', '104.19.197.151', '23.21.164.190',\n",
       "       '34.195.156.17', '52.44.144.199', '52.72.225.121', '54.243.111.71',\n",
       "       '52.207.122.163', '52.206.161.65', '54.174.234.29',\n",
       "       '52.203.113.55', '204.154.111.104', '172.217.6.226',\n",
       "       '65.55.163.222', '23.194.140.46', '23.192.125.80',\n",
       "       '23.192.125.138', '23.194.140.43', '23.194.141.179',\n",
       "       '23.192.125.10', '162.248.19.147', '8.43.72.21', '52.85.93.127',\n",
       "       '23.192.65.167', '172.217.11.34', '31.13.71.7', '172.217.3.104',\n",
       "       '104.20.183.9', '172.217.9.227', '52.73.132.195', '104.18.102.194',\n",
       "       '107.178.246.49', '151.101.22.2', '98.139.225.35',\n",
       "       '173.241.242.143', '54.84.240.145', '54.209.181.206',\n",
       "       '54.164.68.142', '54.81.160.231', '172.217.10.42',\n",
       "       '216.58.217.130', '52.22.210.63', '40.76.207.208', '172.217.6.195',\n",
       "       '18.211.180.29', '8.250.89.254', '172.217.11.4', '54.201.6.28',\n",
       "       '74.125.192.108', '172.217.2.98', '74.125.192.109', '52.1.239.99',\n",
       "       '18.196.13.239', '52.84.33.201', '64.233.184.120', '172.217.6.227',\n",
       "       '172.217.3.114', '172.217.9.242', '52.85.89.197', '52.85.89.10',\n",
       "       '54.208.7.225', '13.68.93.109', '204.154.111.130', '52.1.142.68',\n",
       "       '65.55.44.109', '151.101.2.133', '23.203.78.114', '50.19.191.106',\n",
       "       '64.233.184.94', '52.32.209.197', '173.194.66.109',\n",
       "       '204.154.111.128', '74.201.229.68', '173.231.178.118',\n",
       "       '52.84.89.63', '52.5.166.35', '74.125.202.157', '172.217.2.163',\n",
       "       '112.121.107.47', '205.185.208.52', '139.162.11.86',\n",
       "       '139.162.40.246', '52.84.94.171', '139.162.61.54',\n",
       "       '139.162.22.113', '216.155.194.56', '172.104.41.48',\n",
       "       '209.197.3.15', '34.216.156.21', '118.163.124.247',\n",
       "       '34.196.124.36', '125.227.128.31', '8.43.72.57', '104.88.15.186',\n",
       "       '8.43.72.98', '172.105.219.195', '112.121.107.20',\n",
       "       '112.121.107.16', '112.121.107.46', '52.84.94.211', '8.43.72.97',\n",
       "       '112.121.107.29', '23.194.140.16', '23.15.4.10', '172.217.2.168',\n",
       "       '52.84.94.76', '204.154.111.107', '23.194.110.207', '54.77.73.246',\n",
       "       '34.192.156.126', '18.214.28.209', '216.58.219.202',\n",
       "       '172.217.9.228', '87.250.250.119', '52.34.92.178',\n",
       "       '104.19.195.151', '23.192.125.168', '151.139.245.17',\n",
       "       '151.139.242.18', '37.157.6.246', '185.11.128.203',\n",
       "       '61.213.187.244', '52.84.141.150', '139.162.30.99',\n",
       "       '112.140.42.155', '68.67.179.197', '202.241.208.3',\n",
       "       '173.194.206.109', '172.105.199.237', '52.84.141.3',\n",
       "       '52.84.140.196', '18.232.231.164', '172.104.166.61',\n",
       "       '54.186.208.153', '172.217.11.2', '52.84.146.97', '172.104.85.176',\n",
       "       '52.26.72.3', '31.13.80.2', '204.154.111.115', '104.31.77.175',\n",
       "       '23.15.4.11', '34.215.13.51', '204.154.111.106', '35.186.239.238',\n",
       "       '209.15.224.6', '52.85.89.88', '23.194.141.200', '23.15.4.25',\n",
       "       '34.223.240.82', '54.173.143.111', '13.59.70.19', '104.27.154.45',\n",
       "       '104.27.155.45', '52.85.89.65', '85.25.30.170', '172.217.197.155',\n",
       "       '173.231.178.115', '173.194.68.108', '23.192.125.112',\n",
       "       '204.154.111.118', '52.85.89.16', '23.211.100.18',\n",
       "       '23.211.102.195', '54.235.104.182', '172.217.10.68',\n",
       "       '173.194.68.109', '173.194.205.156', '52.85.89.142',\n",
       "       '204.154.111.110', '122.225.115.203', '112.90.32.233',\n",
       "       '221.122.115.63', '122.225.115.209', '122.225.115.206',\n",
       "       '122.246.20.206', '122.225.115.200', '112.90.32.232',\n",
       "       '203.119.128.195', '54.225.77.82', '74.125.200.120',\n",
       "       '151.101.22.133', '34.211.202.13', '66.198.178.112',\n",
       "       '173.231.178.98', '205.204.101.182', '172.217.10.232',\n",
       "       '192.175.191.200', '192.175.201.116', '104.88.92.153',\n",
       "       '52.45.159.143', '172.82.206.17', '34.196.111.195', '52.4.225.101'],\n",
       "      dtype=object)"
      ]
     },
     "execution_count": 29,
     "metadata": {},
     "output_type": "execute_result"
    }
   ],
   "source": [
    "print('num = ',len(df[' Source IP'].unique()))\n",
    "df[' Source IP'].unique()"
   ]
  },
  {
   "cell_type": "code",
   "execution_count": 30,
   "id": "2b51d910",
   "metadata": {},
   "outputs": [],
   "source": [
    "from sklearn.preprocessing import LabelEncoder\n",
    "le = LabelEncoder()\n",
    "a = df"
   ]
  },
  {
   "cell_type": "code",
   "execution_count": 32,
   "id": "44d81672",
   "metadata": {},
   "outputs": [],
   "source": [
    "df['Label'] = le.fit_transform(df.Label.values)"
   ]
  },
  {
   "cell_type": "code",
   "execution_count": 35,
   "id": "2d062047",
   "metadata": {},
   "outputs": [],
   "source": [
    "import netaddr"
   ]
  },
  {
   "cell_type": "code",
   "execution_count": 37,
   "id": "934531cc",
   "metadata": {},
   "outputs": [
    {
     "name": "stdout",
     "output_type": "stream",
     "text": [
      "strating loop, length is 366\n",
      "loop over\n"
     ]
    }
   ],
   "source": [
    "ips = df[' Source IP'].unique()\n",
    "l = len(ips)\n",
    "print('strating loop, length is',l)\n",
    "for i in range(l):\n",
    "  df[' Source IP'] = df[' Source IP'].replace(ips[i], int(netaddr.IPAddress(ips[i])))\n",
    "print('loop over')"
   ]
  },
  {
   "cell_type": "code",
   "execution_count": 40,
   "id": "46840628",
   "metadata": {},
   "outputs": [
    {
     "name": "stdout",
     "output_type": "stream",
     "text": [
      "strating loop, length is 433\n",
      "loop over\n"
     ]
    }
   ],
   "source": [
    "ips = df[' Destination IP'].unique()\n",
    "l = len(ips)\n",
    "print('strating loop, length is',l)\n",
    "for i in range(l):\n",
    "  df[' Destination IP'] = df[' Destination IP'].replace(ips[i], int(netaddr.IPAddress(ips[i])))\n",
    "print('loop over')"
   ]
  },
  {
   "cell_type": "code",
   "execution_count": 41,
   "id": "0869a4c6",
   "metadata": {},
   "outputs": [
    {
     "name": "stdout",
     "output_type": "stream",
     "text": [
      "<class 'pandas.core.frame.DataFrame'>\n",
      "RangeIndex: 1341858 entries, 0 to 1341857\n",
      "Data columns (total 73 columns):\n",
      " #   Column                        Non-Null Count    Dtype  \n",
      "---  ------                        --------------    -----  \n",
      " 0   Unnamed: 0.2                  1341858 non-null  int64  \n",
      " 1    Source IP                    1341858 non-null  int64  \n",
      " 2    Source Port                  1341858 non-null  int64  \n",
      " 3    Destination IP               1341858 non-null  int64  \n",
      " 4    Destination Port             1341858 non-null  int64  \n",
      " 5    Protocol                     1341858 non-null  int64  \n",
      " 6    Flow Duration                1341858 non-null  int64  \n",
      " 7    Total Fwd Packets            1341858 non-null  int64  \n",
      " 8    Total Backward Packets       1341858 non-null  int64  \n",
      " 9   Total Length of Fwd Packets   1341858 non-null  float64\n",
      " 10   Total Length of Bwd Packets  1341858 non-null  float64\n",
      " 11   Fwd Packet Length Max        1341858 non-null  float64\n",
      " 12   Fwd Packet Length Min        1341858 non-null  float64\n",
      " 13   Fwd Packet Length Mean       1341858 non-null  float64\n",
      " 14   Fwd Packet Length Std        1341858 non-null  float64\n",
      " 15  Bwd Packet Length Max         1341858 non-null  float64\n",
      " 16   Bwd Packet Length Min        1341858 non-null  float64\n",
      " 17   Bwd Packet Length Mean       1341858 non-null  float64\n",
      " 18   Bwd Packet Length Std        1341858 non-null  float64\n",
      " 19  Flow Bytes/s                  1341846 non-null  float64\n",
      " 20   Flow Packets/s               1341858 non-null  float64\n",
      " 21   Flow IAT Mean                1341858 non-null  float64\n",
      " 22   Flow IAT Std                 1341858 non-null  float64\n",
      " 23   Flow IAT Max                 1341858 non-null  float64\n",
      " 24   Flow IAT Min                 1341858 non-null  float64\n",
      " 25  Fwd IAT Total                 1341858 non-null  float64\n",
      " 26   Fwd IAT Mean                 1341858 non-null  float64\n",
      " 27   Fwd IAT Std                  1341858 non-null  float64\n",
      " 28   Fwd IAT Max                  1341858 non-null  float64\n",
      " 29   Fwd IAT Min                  1341858 non-null  float64\n",
      " 30  Bwd IAT Total                 1341858 non-null  float64\n",
      " 31   Bwd IAT Mean                 1341858 non-null  float64\n",
      " 32   Bwd IAT Std                  1341858 non-null  float64\n",
      " 33   Bwd IAT Max                  1341858 non-null  float64\n",
      " 34   Bwd IAT Min                  1341858 non-null  float64\n",
      " 35  Fwd PSH Flags                 1341858 non-null  int64  \n",
      " 36   Fwd Header Length            1341858 non-null  int64  \n",
      " 37   Bwd Header Length            1341858 non-null  int64  \n",
      " 38  Fwd Packets/s                 1341858 non-null  float64\n",
      " 39   Bwd Packets/s                1341858 non-null  float64\n",
      " 40   Min Packet Length            1341858 non-null  float64\n",
      " 41   Max Packet Length            1341858 non-null  float64\n",
      " 42   Packet Length Mean           1341858 non-null  float64\n",
      " 43   Packet Length Std            1341858 non-null  float64\n",
      " 44   Packet Length Variance       1341858 non-null  float64\n",
      " 45   SYN Flag Count               1341858 non-null  int64  \n",
      " 46   RST Flag Count               1341858 non-null  int64  \n",
      " 47   ACK Flag Count               1341858 non-null  int64  \n",
      " 48   URG Flag Count               1341858 non-null  int64  \n",
      " 49   CWE Flag Count               1341858 non-null  int64  \n",
      " 50   Down/Up Ratio                1341858 non-null  float64\n",
      " 51   Average Packet Size          1341858 non-null  float64\n",
      " 52   Avg Fwd Segment Size         1341858 non-null  float64\n",
      " 53   Avg Bwd Segment Size         1341858 non-null  float64\n",
      " 54   Fwd Header Length.1          1341858 non-null  int64  \n",
      " 55  Subflow Fwd Packets           1341858 non-null  int64  \n",
      " 56   Subflow Fwd Bytes            1341858 non-null  int64  \n",
      " 57   Subflow Bwd Packets          1341858 non-null  int64  \n",
      " 58   Subflow Bwd Bytes            1341858 non-null  int64  \n",
      " 59  Init_Win_bytes_forward        1341858 non-null  int64  \n",
      " 60   Init_Win_bytes_backward      1341858 non-null  int64  \n",
      " 61   act_data_pkt_fwd             1341858 non-null  int64  \n",
      " 62   min_seg_size_forward         1341858 non-null  int64  \n",
      " 63  Active Mean                   1341858 non-null  float64\n",
      " 64   Active Std                   1341858 non-null  float64\n",
      " 65   Active Max                   1341858 non-null  float64\n",
      " 66   Active Min                   1341858 non-null  float64\n",
      " 67  Idle Mean                     1341858 non-null  float64\n",
      " 68   Idle Std                     1341858 non-null  float64\n",
      " 69   Idle Max                     1341858 non-null  float64\n",
      " 70   Idle Min                     1341858 non-null  float64\n",
      " 71   Inbound                      1341858 non-null  int64  \n",
      " 72  Label                         1341858 non-null  int64  \n",
      "dtypes: float64(45), int64(28)\n",
      "memory usage: 747.3 MB\n"
     ]
    }
   ],
   "source": [
    "df.info()"
   ]
  },
  {
   "cell_type": "code",
   "execution_count": 42,
   "id": "fc069878",
   "metadata": {},
   "outputs": [],
   "source": [
    "df['Flow Bytes/s'] = df['Flow Bytes/s'].astype('float')"
   ]
  },
  {
   "cell_type": "code",
   "execution_count": 44,
   "id": "aeefe5ae",
   "metadata": {},
   "outputs": [
    {
     "data": {
      "text/plain": [
       "<AxesSubplot:>"
      ]
     },
     "execution_count": 44,
     "metadata": {},
     "output_type": "execute_result"
    },
    {
     "data": {
      "image/png": "[encoded data removed]",
      "text/plain": [
       "<Figure size 432x288 with 2 Axes>"
      ]
     },
     "metadata": {
      "needs_background": "light"
     },
     "output_type": "display_data"
    }
   ],
   "source": [
    "import seaborn as sn\n",
    "corr_mat=df.corr()\n",
    "sn.heatmap(corr_mat, annot=True)"
   ]
  },
  {
   "cell_type": "code",
   "execution_count": 45,
   "id": "2da4c3fa",
   "metadata": {},
   "outputs": [],
   "source": [
    "df=df.drop(' Source IP',axis=1)\n",
    "df=df.drop(' Flow Duration',axis=1)\n",
    "df=df.drop(' Total Fwd Packets',axis=1)\n",
    "df=df.drop(' Total Backward Packets',axis=1)\n",
    "df=df.drop(' Total Length of Bwd Packets',axis=1)\n",
    "df=df.drop(' Fwd Packet Length Std',axis=1)\n",
    "df=df.drop(' Flow IAT Max',axis=1)\n",
    "df=df.drop(' Flow IAT Min',axis=1)\n",
    "df=df.drop('Fwd IAT Total',axis=1)\n",
    "df=df.drop(' Fwd IAT Max',axis=1)\n",
    "df=df.drop(' Fwd IAT Min',axis=1)\n",
    "df=df.drop('Bwd IAT Total',axis=1)\n",
    "df=df.drop(' Bwd IAT Mean',axis=1)\n",
    "df=df.drop(' Bwd IAT Std',axis=1)\n",
    "df=df.drop(' Bwd IAT Max',axis=1)\n",
    "df=df.drop(' Bwd IAT Min',axis=1)\n",
    "df=df.drop(' Fwd Header Length',axis=1)\n",
    "df=df.drop(' Bwd Header Length',axis=1)\n",
    "df=df.drop(' Bwd Packets/s',axis=1)\n",
    "df=df.drop(' SYN Flag Count',axis=1)\n",
    "df=df.drop(' Down/Up Ratio',axis=1)\n",
    "df=df.drop(' Fwd Header Length.1',axis=1)\n",
    "df=df.drop('Subflow Fwd Packets',axis=1)\n",
    "df=df.drop(' Subflow Bwd Packets',axis=1)\n",
    "df=df.drop(' Subflow Bwd Bytes',axis=1)\n",
    "df=df.drop(' act_data_pkt_fwd',axis=1)\n",
    "df=df.drop(' min_seg_size_forward',axis=1)\n",
    "df=df.drop('Active Mean',axis=1)\n",
    "df=df.drop(' Active Std',axis=1)\n",
    "df=df.drop(' Active Max',axis=1)\n",
    "df=df.drop(' Active Min',axis=1)\n",
    "df=df.drop('Idle Mean',axis=1)\n",
    "df=df.drop(' Idle Max',axis=1)\n",
    "df=df.drop(' Idle Min',axis=1)\n",
    "df=df.drop(' Packet Length Std',axis=1)"
   ]
  },
  {
   "cell_type": "code",
   "execution_count": 46,
   "id": "652d09b6",
   "metadata": {},
   "outputs": [],
   "source": [
    "df.to_csv('cleaned_final_dataset.csv')"
   ]
  }
 ],
 "metadata": {
  "kernelspec": {
   "display_name": "Python 3 (ipykernel)",
   "language": "python",
   "name": "python3"
  },
  "language_info": {
   "codemirror_mode": {
    "name": "ipython",
    "version": 3
   },
   "file_extension": ".py",
   "mimetype": "text/x-python",
   "name": "python",
   "nbconvert_exporter": "python",
   "pygments_lexer": "ipython3",
   "version": "3.9.12"
  }
 },
 "nbformat": 4,
 "nbformat_minor": 5
}
